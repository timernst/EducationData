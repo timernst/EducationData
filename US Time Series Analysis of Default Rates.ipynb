{
 "cells": [
  {
   "cell_type": "code",
   "execution_count": 84,
   "metadata": {
    "collapsed": false
   },
   "outputs": [],
   "source": [
    "import pandas as pd\n",
    "import numpy as np\n",
    "import datetime\n",
    "import requests"
   ]
  },
  {
   "cell_type": "code",
   "execution_count": null,
   "metadata": {
    "collapsed": true
   },
   "outputs": [],
   "source": [
    "https://api.data.gov/ed/collegescorecard/v1/schools.json?school.degrees_awarded.predominant=2,3&_fields=id,school.name,2013.student.size"
   ]
  },
  {
   "cell_type": "raw",
   "metadata": {},
   "source": [
    "url = 'https://api.twitter.com/1.1/account/verify_credentials.json'\n",
    ">>> auth = OAuth1('YOUR_APP_KEY', 'YOUR_APP_SECRET',\n",
    "...               'USER_OAUTH_TOKEN', 'USER_OAUTH_TOKEN_SECRET')\n",
    "\n",
    ">>> requests.get(url, auth=auth)"
   ]
  },
  {
   "cell_type": "code",
   "execution_count": null,
   "metadata": {
    "collapsed": true
   },
   "outputs": [],
   "source": [
    "\n",
    "https://api.data.gov/ed/collegescorecard/v1/schools.json?school.degrees_awarded.predominant=2,3&_fields=id,school.name,2013.student.size\n"
   ]
  },
  {
   "cell_type": "raw",
   "metadata": {},
   "source": []
  },
  {
   "cell_type": "code",
   "execution_count": 237,
   "metadata": {
    "collapsed": false
   },
   "outputs": [],
   "source": [
    "url = 'https://api.data.gov/ed/collegescorecard/v1/schools.csv'\n",
    "\n",
    "payload = {\n",
    "    'api_key': '4KCOfI4OAq28H2IwSyV3YtlicCtGJ5XlNotxUNKk',\n",
    "    'fields': 'school.name,school.city,school.degrees_awarded.predominant', #'ownership', 'repayment.2_yr_default_rate', 'repayment.3_yr_default_rate', 'repayment.repayment_cohort.7_year_declining_balance'],\n",
    "    'school.degrees_awarded.predominant' : '2,3,4',\n",
    "}\n",
    "\n",
    "r = requests.get(url, params=payload, headers=header)"
   ]
  },
  {
   "cell_type": "code",
   "execution_count": null,
   "metadata": {
    "collapsed": true
   },
   "outputs": [],
   "source": [
    "api.data.gov/ed/collegescorecard/v1/schools?fields=school.name,id,2012.aid.median_debt.completers.overall,2012.repayment.1_yr_repayment.completers,2012.earnings.10_yrs_after_entry.working_not_enrolled.mean_earnings&page=100"
   ]
  },
  {
   "cell_type": "code",
   "execution_count": 253,
   "metadata": {
    "collapsed": false
   },
   "outputs": [
    {
     "data": {
      "text/plain": [
       "{'X-Cache': 'MISS', 'X-RateLimit-Remaining': '981', 'X-Content-Type-Options': 'nosniff', 'X-Frame-Options': 'DENY', 'Cache-Control': 'public, max-age=300', 'Transfer-Encoding': 'chunked', 'Date': 'Wed, 19 Apr 2017 02:14:39 GMT', 'X-RateLimit-Limit': '1000', 'Vary': 'Accept-Encoding, Accept-Encoding', 'Via': 'http/1.1 api-umbrella (ApacheTrafficServer [cMsSfW])', 'Strict-Transport-Security': 'max-age=31536000', 'Content-Type': 'text/csv;charset=utf-8', 'Access-Control-Allow-Origin': '*', 'X-XSS-Protection': '1; mode=block', 'Server': 'openresty', 'Age': '0', 'X-Vcap-Request-Id': '8e0d9f5a-99f5-4757-498c-2985715b9fc2', 'Access-Control-Allow-Methods': 'GET', 'Content-Encoding': 'gzip', 'Connection': 'keep-alive'}"
      ]
     },
     "execution_count": 253,
     "metadata": {},
     "output_type": "execute_result"
    }
   ],
   "source": [
    "r.headers"
   ]
  },
  {
   "cell_type": "code",
   "execution_count": 238,
   "metadata": {
    "collapsed": false
   },
   "outputs": [
    {
     "data": {
      "text/plain": [
       "'https://api.data.gov/ed/collegescorecard/v1/schools.csv?fields=school.name%2Cschool.city%2Cschool.degrees_awarded.predominant&api_key=4KCOfI4OAq28H2IwSyV3YtlicCtGJ5XlNotxUNKk&school.degrees_awarded.predominant=2%2C3%2C4'"
      ]
     },
     "execution_count": 238,
     "metadata": {},
     "output_type": "execute_result"
    }
   ],
   "source": [
    "r.url"
   ]
  },
  {
   "cell_type": "code",
   "execution_count": 221,
   "metadata": {
    "collapsed": true
   },
   "outputs": [],
   "source": [
    "\n",
    "r2 = requests.get('https://api.data.gov/ed/collegescorecard/v1/schools.csv?_fields=school.name,school.city&api_key=4KCOfI4OAq28H2IwSyV3YtlicCtGJ5XlNotxUNKk&school.degrees_awarded.predominant=2&school.degrees_awarded.predominant=3&school.degrees_awarded.predominant=4')"
   ]
  },
  {
   "cell_type": "code",
   "execution_count": 241,
   "metadata": {
    "collapsed": false
   },
   "outputs": [],
   "source": [
    "text_string = r.text"
   ]
  },
  {
   "cell_type": "code",
   "execution_count": 244,
   "metadata": {
    "collapsed": false
   },
   "outputs": [
    {
     "data": {
      "text/plain": [
       "'\"school.name\",\"school.city\",\"school.degrees_awarded.predominant\"\\n\"Brown Mackie College-Tulsa\",\"Tulsa\",\"2\"\\n\"Urshan Graduate School of Theology\",\"Florissant\",\"4\"\\n\"Denver School of Nursing\",\"Denver\",\"3\"\\n\"Charlotte School of Law\",\"Charlotte\",\"4\"\\n\"Institute of World Politics\",\"Washington\",\"4\"\\n\"ITT Technical Institute-Concord\",\"Concord\",\"2\"\\n\"American National University-Cincinnati\",\"Cincinnati\",\"2\"\\n\"American Sentinel University\",\"Aurora\",\"3\"\\n\"Remington College-Heathrow Campus\",\"Heathrow\",\"3\"\\n\"Georgia Christian University\",\"Atlanta\",\"3\"\\n\"National American University-Centennial\",\"Centennial\",\"2\"\\n\"Chamberlain College of Nursing-Missouri\",\"St. Louis\",\"3\"\\n\"John Paul the Great Catholic University\",\"Escondido\",\"3\"\\n\"Institute for Doctoral Studies in the Visual Arts\",\"Portland\",\"4\"\\n\"The Art Institute of Wisconsin\",\"Milwaukee\",\"3\"\\n\"ITT Technical Institute-Bradenton\",\"Bradenton\",\"2\"\\n\"Yeshiva of Far Rockaway Derech Ayson Rabbinical Seminary\",\"Far Rockaway\",\"3\"\\n\"Appalachian College of Pharmacy\",\"Oakwood\",\"4\"\\n\"Radians College\",\"Washington\",\"2\"\\n\"DeVry University-Illinois\",\"Chicago\",\"3\"\\n'"
      ]
     },
     "execution_count": 244,
     "metadata": {},
     "output_type": "execute_result"
    }
   ],
   "source": [
    "text_string"
   ]
  },
  {
   "cell_type": "code",
   "execution_count": 252,
   "metadata": {
    "collapsed": false
   },
   "outputs": [
    {
     "ename": "FileNotFoundError",
     "evalue": "File b'\"school.name\",\"school.city\",\"school.degrees_awarded.predominant\"\\n\"Brown Mackie College-Tulsa\",\"Tulsa\",\"2\"\\n\"Urshan Graduate School of Theology\",\"Florissant\",\"4\"\\n\"Denver School of Nursing\",\"Denver\",\"3\"\\n\"Charlotte School of Law\",\"Charlotte\",\"4\"\\n\"Institute of World Politics\",\"Washington\",\"4\"\\n\"ITT Technical Institute-Concord\",\"Concord\",\"2\"\\n\"American National University-Cincinnati\",\"Cincinnati\",\"2\"\\n\"American Sentinel University\",\"Aurora\",\"3\"\\n\"Remington College-Heathrow Campus\",\"Heathrow\",\"3\"\\n\"Georgia Christian University\",\"Atlanta\",\"3\"\\n\"National American University-Centennial\",\"Centennial\",\"2\"\\n\"Chamberlain College of Nursing-Missouri\",\"St. Louis\",\"3\"\\n\"John Paul the Great Catholic University\",\"Escondido\",\"3\"\\n\"Institute for Doctoral Studies in the Visual Arts\",\"Portland\",\"4\"\\n\"The Art Institute of Wisconsin\",\"Milwaukee\",\"3\"\\n\"ITT Technical Institute-Bradenton\",\"Bradenton\",\"2\"\\n\"Yeshiva of Far Rockaway Derech Ayson Rabbinical Seminary\",\"Far Rockaway\",\"3\"\\n\"Appalachian College of Pharmacy\",\"Oakwood\",\"4\"\\n\"Radians College\",\"Washington\",\"2\"\\n\"DeVry University-Illinois\",\"Chicago\",\"3\"\\n' does not exist",
     "output_type": "error",
     "traceback": [
      "\u001b[0;31m---------------------------------------------------------------------------\u001b[0m",
      "\u001b[0;31mFileNotFoundError\u001b[0m                         Traceback (most recent call last)",
      "\u001b[0;32m<ipython-input-252-9a92a7139bfc>\u001b[0m in \u001b[0;36m<module>\u001b[0;34m()\u001b[0m\n\u001b[0;32m----> 1\u001b[0;31m \u001b[0mdf\u001b[0m \u001b[0;34m=\u001b[0m \u001b[0mpd\u001b[0m\u001b[0;34m.\u001b[0m\u001b[0mread_csv\u001b[0m\u001b[0;34m(\u001b[0m\u001b[0mtext_string\u001b[0m\u001b[0;34m,\u001b[0m \u001b[0mdtype\u001b[0m\u001b[0;34m=\u001b[0m\u001b[0mobject\u001b[0m\u001b[0;34m,\u001b[0m \u001b[0mindex_col\u001b[0m\u001b[0;34m=\u001b[0m\u001b[0;36m0\u001b[0m\u001b[0;34m)\u001b[0m\u001b[0;34m\u001b[0m\u001b[0m\n\u001b[0m",
      "\u001b[0;32m/Users/timothyernst/anaconda/lib/python3.5/site-packages/pandas/io/parsers.py\u001b[0m in \u001b[0;36mparser_f\u001b[0;34m(filepath_or_buffer, sep, delimiter, header, names, index_col, usecols, squeeze, prefix, mangle_dupe_cols, dtype, engine, converters, true_values, false_values, skipinitialspace, skiprows, nrows, na_values, keep_default_na, na_filter, verbose, skip_blank_lines, parse_dates, infer_datetime_format, keep_date_col, date_parser, dayfirst, iterator, chunksize, compression, thousands, decimal, lineterminator, quotechar, quoting, escapechar, comment, encoding, dialect, tupleize_cols, error_bad_lines, warn_bad_lines, skipfooter, skip_footer, doublequote, delim_whitespace, as_recarray, compact_ints, use_unsigned, low_memory, buffer_lines, memory_map, float_precision)\u001b[0m\n\u001b[1;32m    644\u001b[0m                     skip_blank_lines=skip_blank_lines)\n\u001b[1;32m    645\u001b[0m \u001b[0;34m\u001b[0m\u001b[0m\n\u001b[0;32m--> 646\u001b[0;31m         \u001b[0;32mreturn\u001b[0m \u001b[0m_read\u001b[0m\u001b[0;34m(\u001b[0m\u001b[0mfilepath_or_buffer\u001b[0m\u001b[0;34m,\u001b[0m \u001b[0mkwds\u001b[0m\u001b[0;34m)\u001b[0m\u001b[0;34m\u001b[0m\u001b[0m\n\u001b[0m\u001b[1;32m    647\u001b[0m \u001b[0;34m\u001b[0m\u001b[0m\n\u001b[1;32m    648\u001b[0m     \u001b[0mparser_f\u001b[0m\u001b[0;34m.\u001b[0m\u001b[0m__name__\u001b[0m \u001b[0;34m=\u001b[0m \u001b[0mname\u001b[0m\u001b[0;34m\u001b[0m\u001b[0m\n",
      "\u001b[0;32m/Users/timothyernst/anaconda/lib/python3.5/site-packages/pandas/io/parsers.py\u001b[0m in \u001b[0;36m_read\u001b[0;34m(filepath_or_buffer, kwds)\u001b[0m\n\u001b[1;32m    387\u001b[0m \u001b[0;34m\u001b[0m\u001b[0m\n\u001b[1;32m    388\u001b[0m     \u001b[0;31m# Create the parser.\u001b[0m\u001b[0;34m\u001b[0m\u001b[0;34m\u001b[0m\u001b[0m\n\u001b[0;32m--> 389\u001b[0;31m     \u001b[0mparser\u001b[0m \u001b[0;34m=\u001b[0m \u001b[0mTextFileReader\u001b[0m\u001b[0;34m(\u001b[0m\u001b[0mfilepath_or_buffer\u001b[0m\u001b[0;34m,\u001b[0m \u001b[0;34m**\u001b[0m\u001b[0mkwds\u001b[0m\u001b[0;34m)\u001b[0m\u001b[0;34m\u001b[0m\u001b[0m\n\u001b[0m\u001b[1;32m    390\u001b[0m \u001b[0;34m\u001b[0m\u001b[0m\n\u001b[1;32m    391\u001b[0m     \u001b[0;32mif\u001b[0m \u001b[0;34m(\u001b[0m\u001b[0mnrows\u001b[0m \u001b[0;32mis\u001b[0m \u001b[0;32mnot\u001b[0m \u001b[0;32mNone\u001b[0m\u001b[0;34m)\u001b[0m \u001b[0;32mand\u001b[0m \u001b[0;34m(\u001b[0m\u001b[0mchunksize\u001b[0m \u001b[0;32mis\u001b[0m \u001b[0;32mnot\u001b[0m \u001b[0;32mNone\u001b[0m\u001b[0;34m)\u001b[0m\u001b[0;34m:\u001b[0m\u001b[0;34m\u001b[0m\u001b[0m\n",
      "\u001b[0;32m/Users/timothyernst/anaconda/lib/python3.5/site-packages/pandas/io/parsers.py\u001b[0m in \u001b[0;36m__init__\u001b[0;34m(self, f, engine, **kwds)\u001b[0m\n\u001b[1;32m    728\u001b[0m             \u001b[0mself\u001b[0m\u001b[0;34m.\u001b[0m\u001b[0moptions\u001b[0m\u001b[0;34m[\u001b[0m\u001b[0;34m'has_index_names'\u001b[0m\u001b[0;34m]\u001b[0m \u001b[0;34m=\u001b[0m \u001b[0mkwds\u001b[0m\u001b[0;34m[\u001b[0m\u001b[0;34m'has_index_names'\u001b[0m\u001b[0;34m]\u001b[0m\u001b[0;34m\u001b[0m\u001b[0m\n\u001b[1;32m    729\u001b[0m \u001b[0;34m\u001b[0m\u001b[0m\n\u001b[0;32m--> 730\u001b[0;31m         \u001b[0mself\u001b[0m\u001b[0;34m.\u001b[0m\u001b[0m_make_engine\u001b[0m\u001b[0;34m(\u001b[0m\u001b[0mself\u001b[0m\u001b[0;34m.\u001b[0m\u001b[0mengine\u001b[0m\u001b[0;34m)\u001b[0m\u001b[0;34m\u001b[0m\u001b[0m\n\u001b[0m\u001b[1;32m    731\u001b[0m \u001b[0;34m\u001b[0m\u001b[0m\n\u001b[1;32m    732\u001b[0m     \u001b[0;32mdef\u001b[0m \u001b[0mclose\u001b[0m\u001b[0;34m(\u001b[0m\u001b[0mself\u001b[0m\u001b[0;34m)\u001b[0m\u001b[0;34m:\u001b[0m\u001b[0;34m\u001b[0m\u001b[0m\n",
      "\u001b[0;32m/Users/timothyernst/anaconda/lib/python3.5/site-packages/pandas/io/parsers.py\u001b[0m in \u001b[0;36m_make_engine\u001b[0;34m(self, engine)\u001b[0m\n\u001b[1;32m    921\u001b[0m     \u001b[0;32mdef\u001b[0m \u001b[0m_make_engine\u001b[0m\u001b[0;34m(\u001b[0m\u001b[0mself\u001b[0m\u001b[0;34m,\u001b[0m \u001b[0mengine\u001b[0m\u001b[0;34m=\u001b[0m\u001b[0;34m'c'\u001b[0m\u001b[0;34m)\u001b[0m\u001b[0;34m:\u001b[0m\u001b[0;34m\u001b[0m\u001b[0m\n\u001b[1;32m    922\u001b[0m         \u001b[0;32mif\u001b[0m \u001b[0mengine\u001b[0m \u001b[0;34m==\u001b[0m \u001b[0;34m'c'\u001b[0m\u001b[0;34m:\u001b[0m\u001b[0;34m\u001b[0m\u001b[0m\n\u001b[0;32m--> 923\u001b[0;31m             \u001b[0mself\u001b[0m\u001b[0;34m.\u001b[0m\u001b[0m_engine\u001b[0m \u001b[0;34m=\u001b[0m \u001b[0mCParserWrapper\u001b[0m\u001b[0;34m(\u001b[0m\u001b[0mself\u001b[0m\u001b[0;34m.\u001b[0m\u001b[0mf\u001b[0m\u001b[0;34m,\u001b[0m \u001b[0;34m**\u001b[0m\u001b[0mself\u001b[0m\u001b[0;34m.\u001b[0m\u001b[0moptions\u001b[0m\u001b[0;34m)\u001b[0m\u001b[0;34m\u001b[0m\u001b[0m\n\u001b[0m\u001b[1;32m    924\u001b[0m         \u001b[0;32melse\u001b[0m\u001b[0;34m:\u001b[0m\u001b[0;34m\u001b[0m\u001b[0m\n\u001b[1;32m    925\u001b[0m             \u001b[0;32mif\u001b[0m \u001b[0mengine\u001b[0m \u001b[0;34m==\u001b[0m \u001b[0;34m'python'\u001b[0m\u001b[0;34m:\u001b[0m\u001b[0;34m\u001b[0m\u001b[0m\n",
      "\u001b[0;32m/Users/timothyernst/anaconda/lib/python3.5/site-packages/pandas/io/parsers.py\u001b[0m in \u001b[0;36m__init__\u001b[0;34m(self, src, **kwds)\u001b[0m\n\u001b[1;32m   1388\u001b[0m         \u001b[0mkwds\u001b[0m\u001b[0;34m[\u001b[0m\u001b[0;34m'allow_leading_cols'\u001b[0m\u001b[0;34m]\u001b[0m \u001b[0;34m=\u001b[0m \u001b[0mself\u001b[0m\u001b[0;34m.\u001b[0m\u001b[0mindex_col\u001b[0m \u001b[0;32mis\u001b[0m \u001b[0;32mnot\u001b[0m \u001b[0;32mFalse\u001b[0m\u001b[0;34m\u001b[0m\u001b[0m\n\u001b[1;32m   1389\u001b[0m \u001b[0;34m\u001b[0m\u001b[0m\n\u001b[0;32m-> 1390\u001b[0;31m         \u001b[0mself\u001b[0m\u001b[0;34m.\u001b[0m\u001b[0m_reader\u001b[0m \u001b[0;34m=\u001b[0m \u001b[0m_parser\u001b[0m\u001b[0;34m.\u001b[0m\u001b[0mTextReader\u001b[0m\u001b[0;34m(\u001b[0m\u001b[0msrc\u001b[0m\u001b[0;34m,\u001b[0m \u001b[0;34m**\u001b[0m\u001b[0mkwds\u001b[0m\u001b[0;34m)\u001b[0m\u001b[0;34m\u001b[0m\u001b[0m\n\u001b[0m\u001b[1;32m   1391\u001b[0m \u001b[0;34m\u001b[0m\u001b[0m\n\u001b[1;32m   1392\u001b[0m         \u001b[0;31m# XXX\u001b[0m\u001b[0;34m\u001b[0m\u001b[0;34m\u001b[0m\u001b[0m\n",
      "\u001b[0;32mpandas/parser.pyx\u001b[0m in \u001b[0;36mpandas.parser.TextReader.__cinit__ (pandas/parser.c:4184)\u001b[0;34m()\u001b[0m\n",
      "\u001b[0;32mpandas/parser.pyx\u001b[0m in \u001b[0;36mpandas.parser.TextReader._setup_parser_source (pandas/parser.c:8449)\u001b[0;34m()\u001b[0m\n",
      "\u001b[0;31mFileNotFoundError\u001b[0m: File b'\"school.name\",\"school.city\",\"school.degrees_awarded.predominant\"\\n\"Brown Mackie College-Tulsa\",\"Tulsa\",\"2\"\\n\"Urshan Graduate School of Theology\",\"Florissant\",\"4\"\\n\"Denver School of Nursing\",\"Denver\",\"3\"\\n\"Charlotte School of Law\",\"Charlotte\",\"4\"\\n\"Institute of World Politics\",\"Washington\",\"4\"\\n\"ITT Technical Institute-Concord\",\"Concord\",\"2\"\\n\"American National University-Cincinnati\",\"Cincinnati\",\"2\"\\n\"American Sentinel University\",\"Aurora\",\"3\"\\n\"Remington College-Heathrow Campus\",\"Heathrow\",\"3\"\\n\"Georgia Christian University\",\"Atlanta\",\"3\"\\n\"National American University-Centennial\",\"Centennial\",\"2\"\\n\"Chamberlain College of Nursing-Missouri\",\"St. Louis\",\"3\"\\n\"John Paul the Great Catholic University\",\"Escondido\",\"3\"\\n\"Institute for Doctoral Studies in the Visual Arts\",\"Portland\",\"4\"\\n\"The Art Institute of Wisconsin\",\"Milwaukee\",\"3\"\\n\"ITT Technical Institute-Bradenton\",\"Bradenton\",\"2\"\\n\"Yeshiva of Far Rockaway Derech Ayson Rabbinical Seminary\",\"Far Rockaway\",\"3\"\\n\"Appalachian College of Pharmacy\",\"Oakwood\",\"4\"\\n\"Radians College\",\"Washington\",\"2\"\\n\"DeVry University-Illinois\",\"Chicago\",\"3\"\\n' does not exist"
     ]
    }
   ],
   "source": [
    "df = pd.read_csv(text_string, dtype=object, index_col=0)"
   ]
  },
  {
   "cell_type": "code",
   "execution_count": 254,
   "metadata": {
    "collapsed": true
   },
   "outputs": [],
   "source": [
    "s = pd.Series(text_string)\n"
   ]
  },
  {
   "cell_type": "code",
   "execution_count": 255,
   "metadata": {
    "collapsed": false
   },
   "outputs": [
    {
     "data": {
      "text/plain": [
       "0    \"school.name\",\"school.city\",\"school.degrees_aw...\n",
       "dtype: object"
      ]
     },
     "execution_count": 255,
     "metadata": {},
     "output_type": "execute_result"
    }
   ],
   "source": [
    "s.head()"
   ]
  },
  {
   "cell_type": "code",
   "execution_count": 249,
   "metadata": {
    "collapsed": false
   },
   "outputs": [
    {
     "data": {
      "text/plain": [
       "str"
      ]
     },
     "execution_count": 249,
     "metadata": {},
     "output_type": "execute_result"
    }
   ],
   "source": [
    "type(text_string)"
   ]
  },
  {
   "cell_type": "code",
   "execution_count": 97,
   "metadata": {
    "collapsed": false
   },
   "outputs": [
    {
     "data": {
      "text/plain": [
       "200"
      ]
     },
     "execution_count": 97,
     "metadata": {},
     "output_type": "execute_result"
    }
   ],
   "source": [
    "r.status_code"
   ]
  },
  {
   "cell_type": "code",
   "execution_count": 78,
   "metadata": {
    "collapsed": false
   },
   "outputs": [
    {
     "data": {
      "text/plain": [
       "200"
      ]
     },
     "execution_count": 78,
     "metadata": {},
     "output_type": "execute_result"
    }
   ],
   "source": [
    "r.status_code"
   ]
  },
  {
   "cell_type": "code",
   "execution_count": 80,
   "metadata": {
    "collapsed": false
   },
   "outputs": [
    {
     "data": {
      "text/plain": [
       "True"
      ]
     },
     "execution_count": 80,
     "metadata": {},
     "output_type": "execute_result"
    }
   ],
   "source": [
    "r.status_code == requests.codes.ok"
   ]
  }
 ],
 "metadata": {
  "kernelspec": {
   "display_name": "Python [Root]",
   "language": "python",
   "name": "Python [Root]"
  },
  "language_info": {
   "codemirror_mode": {
    "name": "ipython",
    "version": 3
   },
   "file_extension": ".py",
   "mimetype": "text/x-python",
   "name": "python",
   "nbconvert_exporter": "python",
   "pygments_lexer": "ipython3",
   "version": "3.5.2"
  }
 },
 "nbformat": 4,
 "nbformat_minor": 1
}
